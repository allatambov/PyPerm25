{
 "cells": [
  {
   "cell_type": "markdown",
   "metadata": {},
   "source": [
    "# Анализ данных на Python\n",
    "\n",
    "*Алла Тамбовцева*\n",
    "\n",
    "## Примеры статистических тестов"
   ]
  },
  {
   "cell_type": "code",
   "execution_count": 1,
   "metadata": {},
   "outputs": [
    {
     "name": "stderr",
     "output_type": "stream",
     "text": [
      "/opt/anaconda3/lib/python3.7/site-packages/statsmodels/tools/_testing.py:19: FutureWarning: pandas.util.testing is deprecated. Use the functions in the public API at pandas.testing instead.\n",
      "  import pandas.util.testing as tm\n"
     ]
    }
   ],
   "source": [
    "import numpy as np\n",
    "from scipy import stats\n",
    "from statsmodels.stats.proportion import proportions_ztest"
   ]
  },
  {
   "cell_type": "markdown",
   "metadata": {},
   "source": [
    "Общие замечания:\n",
    "\n",
    "* в большинстве тестов по умолчанию используется двусторонняя альтернатива;\n",
    "* в `scipy` приняты обозначения `'less'` и `'greater'` для левосторонних альтернатив, в `statsmodels` – `'smaller'` и `'larger'`."
   ]
  },
  {
   "cell_type": "markdown",
   "metadata": {},
   "source": [
    "### Задача 1\n",
    "\n",
    "Даны два списка. В списке `server1` сохранены отметки о том, перешли ли покупатели к оформлению заказа в текущем дизайне сайта интернет-магазина (1 – да, 0 – нет), в списке `server2` – аналогичные отметки для сайта в обновлённом дизайне. Известно, что посетители сайта в текущем и обновлённом дизайне – разные люди, то есть выборки независимы."
   ]
  },
  {
   "cell_type": "code",
   "execution_count": 2,
   "metadata": {},
   "outputs": [],
   "source": [
    "server1 = [0, 0, 0, 0, 1, 0, 0, 1, 0, 0, \n",
    "           0, 0, 0, 1, 0, 0, 0, 0, 0, 0, \n",
    "           0, 0, 0, 0, 0, 0, 0, 0, 0, 0, \n",
    "           0, 1, 0, 1, 0, 0, 0, 0, 0, 0]\n",
    "\n",
    "server2 = [0, 0, 1, 1, 1, 0, 1, 0, 0, 1, \n",
    "           0, 1, 0, 0, 0, 1, 0, 0, 0, 1, \n",
    "           0, 0, 0, 1, 0, 0, 0, 1, 0, 0,\n",
    "           0, 1]"
   ]
  },
  {
   "cell_type": "markdown",
   "metadata": {},
   "source": [
    "Используя шаблон кода для функции `proportions_ztest()` ниже, проверьте гипотезу $H_0: p_1 = p_2$ против левосторонней альтернативы, приняв уровень значимости равным 5%."
   ]
  },
  {
   "cell_type": "code",
   "execution_count": 3,
   "metadata": {},
   "outputs": [
    {
     "name": "stdout",
     "output_type": "stream",
     "text": [
      "Конверсия 1: 0.125\n",
      "Конверсия 2: 0.34375\n"
     ]
    }
   ],
   "source": [
    "s1, s2 = sum(server1), sum(server2)\n",
    "n1, n2 = len(server1), len(server2)\n",
    "\n",
    "# доли для наглядности\n",
    "\n",
    "print(\"Конверсия 1:\", s1 / n1)\n",
    "print(\"Конверсия 2:\", s2 / n2)"
   ]
  },
  {
   "cell_type": "markdown",
   "metadata": {},
   "source": [
    "$$\n",
    "H_0: p_1 = p_2\n",
    "$$\n",
    "\n",
    "$$\n",
    "H_1: p_1 < p_2\n",
    "$$"
   ]
  },
  {
   "cell_type": "code",
   "execution_count": 4,
   "metadata": {},
   "outputs": [
    {
     "name": "stdout",
     "output_type": "stream",
     "text": [
      "(-2.2185299186623557, 0.013259360979715378)\n"
     ]
    }
   ],
   "source": [
    "# s1 – число успехов в первой выборке\n",
    "# s2 – число успехов во второй выборке\n",
    "# n1, n2 – объемы выборок\n",
    "# alternative: 'two-sided', 'smaller', 'larger'\n",
    "\n",
    "print(proportions_ztest(count = [s1, s2], \n",
    "                        nobs = [n1, n2], \n",
    "                        alternative = \"smaller\"))"
   ]
  },
  {
   "cell_type": "markdown",
   "metadata": {},
   "source": [
    "Результат выше – наблюдаемое значение статистики ($z_{набл} = -2.218$) и p-value. Так как p-value меньше уровня значимости 5%, нулевую гипотезу следует отвергнуть. Значит, доли не равны, вторая доля больше первой, конверсия обновлённой версии сайта значимо выше."
   ]
  },
  {
   "cell_type": "markdown",
   "metadata": {},
   "source": [
    "Можем разбить результат на части и дописать условие для сравнение с уровнем значимости:"
   ]
  },
  {
   "cell_type": "code",
   "execution_count": 5,
   "metadata": {},
   "outputs": [
    {
     "name": "stdout",
     "output_type": "stream",
     "text": [
      "Введите уровень значимости: 0.05\n",
      "H0 отвергается, p-value 0.013\n"
     ]
    }
   ],
   "source": [
    "stat, pvalue = proportions_ztest(count = [s1, s2], \n",
    "                                 nobs = [n1, n2], \n",
    "                                 alternative = \"smaller\")\n",
    "\n",
    "alpha = float(input(\"Введите уровень значимости: \"))\n",
    "if pvalue > alpha:\n",
    "    print(f\"H0 не отвергается, p-value {pvalue:.3f}\")\n",
    "else:\n",
    "    print(f\"H0 отвергается, p-value {pvalue:.3f}\")"
   ]
  },
  {
   "cell_type": "markdown",
   "metadata": {},
   "source": [
    "### Задача 2\n",
    "\n",
    "Дан массив значений, которые представляют собой закодированную степень согласия с утверждением:\n",
    "\n",
    "* 1 – абсолютно не согласен,\n",
    "* 2 – не согласен,\n",
    "* 3 – согласен,\n",
    "* 4 – абсолютно согласен.\n",
    "\n",
    "Пусть нас интересует доля согласных с утверждением – доля ответов 3 и 4.\n",
    "\n",
    "Используя шаблон кода для функции `binomtest()` ниже, проверьте гипотезу $H_0: p = 0.4$ против двусторонней альтернативы, приняв уровень значимости равным 5%."
   ]
  },
  {
   "cell_type": "code",
   "execution_count": 6,
   "metadata": {},
   "outputs": [],
   "source": [
    "poll = np.array([3, 4, 1, 2, 3, 4, 2, 1, 3, 4,\n",
    "                 1, 2, 4, 3, 1, 2, 3, 4, 3, 4])"
   ]
  },
  {
   "cell_type": "markdown",
   "metadata": {},
   "source": [
    "Самый простой способ посчитать число 3 и 4 – сформулировать условие для всех элементов массива (операции на массивах векторизованы) и получить булев массив:"
   ]
  },
  {
   "cell_type": "code",
   "execution_count": 7,
   "metadata": {},
   "outputs": [
    {
     "name": "stdout",
     "output_type": "stream",
     "text": [
      "[ True  True False False  True  True False False  True  True False False\n",
      "  True  True False False  True  True  True  True]\n"
     ]
    }
   ],
   "source": [
    "print(poll >= 3)"
   ]
  },
  {
   "cell_type": "markdown",
   "metadata": {},
   "source": [
    "Так как `True` в Python эквивалентно значению 1, а `False` – значению 0, можем, как в задаче 1, вычислить сумму по такому массиву. Так как теперь мы работаем с массивами, а не со списками, можно воспользоваться методом `.sum()` вместо базовой функции `sum()`. А число элементов запросим через атрибут `.size` – для одномерных массивов это то же, что и `len()`. "
   ]
  },
  {
   "cell_type": "code",
   "execution_count": 8,
   "metadata": {},
   "outputs": [],
   "source": [
    "yes = (poll >= 3).sum()\n",
    "N = poll.size"
   ]
  },
  {
   "cell_type": "code",
   "execution_count": 9,
   "metadata": {},
   "outputs": [
    {
     "name": "stdout",
     "output_type": "stream",
     "text": [
      "0.10747832022841954\n"
     ]
    }
   ],
   "source": [
    "# yes – число ответов 3 и 4\n",
    "# N – объем выборки\n",
    "\n",
    "print(stats.binom_test(x = yes, n = N, p = 0.4))"
   ]
  },
  {
   "cell_type": "markdown",
   "metadata": {},
   "source": [
    "Итак, гипотезы:\n",
    "\n",
    "$$\n",
    "H_0: p = 0.4 \n",
    "$$\n",
    "\n",
    "$$\n",
    "H_1: p \\ne 0.4 \n",
    "$$\n",
    "\n",
    "P-value больше 0.05 и даже больше 0.1, нулевая гипотеза не отвергается. Долю согласных с утверждением можно считать равной 0.4."
   ]
  },
  {
   "cell_type": "markdown",
   "metadata": {},
   "source": [
    "### Задача 3\n",
    "\n",
    "Даны массивы значений, в которых содержится количество килограммов, которые были сброшены участниками эксперимента в течение 6 недель следования диете A и диете B."
   ]
  },
  {
   "cell_type": "code",
   "execution_count": 10,
   "metadata": {},
   "outputs": [],
   "source": [
    "weight_a = np.array([3, 2.5, 4, 3.5, 4, 4,5, 3.8, 2.7, 1.9, 3.1, 3])\n",
    "weight_b = np.array([-0.5, 2, 2.5, 3, 4, 4.6, 3.2, 0, 1.5, 1.4, 3.2, 2.2, 0])"
   ]
  },
  {
   "cell_type": "markdown",
   "metadata": {},
   "source": [
    "Ниже приведены описательные статистики для выборок:"
   ]
  },
  {
   "cell_type": "code",
   "execution_count": 11,
   "metadata": {},
   "outputs": [
    {
     "name": "stdout",
     "output_type": "stream",
     "text": [
      "среднее: 3.38 стандартное отклонение: 0.84\n",
      "среднее: 2.08 стандартное отклонение: 1.57\n"
     ]
    }
   ],
   "source": [
    "# ddof = 1\n",
    "# чтобы считалось ст отклонение на основе\n",
    "# несмещенной оценки дисперсии, с (n-1) в знаменателе\n",
    "\n",
    "print(\"среднее:\", round(weight_a.mean(), 2), \n",
    "      \"стандартное отклонение:\", round(weight_a.std(ddof = 1), 2))\n",
    "\n",
    "print(\"среднее:\", round(weight_b.mean(), 2), \n",
    "      \"стандартное отклонение:\", round(weight_b.std(ddof = 1), 2))"
   ]
  },
  {
   "cell_type": "markdown",
   "metadata": {},
   "source": [
    "Используя функцию `ttest_ind()` из `stats` библиотеки `scipy`, проверьте, можно ли считать на уровне значимости 5% обе диеты одинаково эффективными в контексте снижения веса. Альтернативную гипотезу считайте односторонней, а ее направление выберите, исходя из данных."
   ]
  },
  {
   "cell_type": "markdown",
   "metadata": {},
   "source": [
    "Так как первое среднее больше второго, логично выбрать правостороннюю альтернативу, поэтому:\n",
    "\n",
    "$$\n",
    "H_0: \\mu_1 = \\mu_2 \\text{ (средние равны)}\n",
    "$$\n",
    "\n",
    "$$\n",
    "H_1: \\mu_1 > \\mu_2 \\text{ (первое среднее больше)}\n",
    "$$"
   ]
  },
  {
   "cell_type": "code",
   "execution_count": 12,
   "metadata": {},
   "outputs": [
    {
     "data": {
      "text/plain": [
       "Ttest_indResult(statistic=2.525776086835049, pvalue=0.00944348362040337)"
      ]
     },
     "execution_count": 12,
     "metadata": {},
     "output_type": "execute_result"
    }
   ],
   "source": [
    "stats.ttest_ind(weight_a, weight_b, alternative = \"greater\")"
   ]
  },
  {
   "cell_type": "markdown",
   "metadata": {},
   "source": [
    "P-value меньше 0.05, значит, нулевую гипотезу на основе имеющихся данных следует отвергнуть. Первую диету можно считать более эффективной, если мы предполагаем, что эффективность в данном случае оценивается через средний показатель снижения веса."
   ]
  }
 ],
 "metadata": {
  "kernelspec": {
   "display_name": "Python 3",
   "language": "python",
   "name": "python3"
  },
  "language_info": {
   "codemirror_mode": {
    "name": "ipython",
    "version": 3
   },
   "file_extension": ".py",
   "mimetype": "text/x-python",
   "name": "python",
   "nbconvert_exporter": "python",
   "pygments_lexer": "ipython3",
   "version": "3.7.4"
  }
 },
 "nbformat": 4,
 "nbformat_minor": 2
}
