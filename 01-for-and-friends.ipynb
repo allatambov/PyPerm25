{
 "cells": [
  {
   "cell_type": "markdown",
   "metadata": {},
   "source": [
    "# Анализ данных в Python\n",
    "\n",
    "*Алла Тамбовцева*\n",
    "\n",
    "## Цикл for и его аналоги: списковые включения и функция `map()`"
   ]
  },
  {
   "cell_type": "markdown",
   "metadata": {},
   "source": [
    "### Списковые включения (генераторы списков)\n",
    "\n",
    "В Python для создания новых списков на основе старых существуют удобные конструкции, которые называются генераторы списков или списковые включения (*list comprehensions*). Они позволяют написать код, более компактный и быстрый по сравнению с кодом с использованием цикла `for` и метода `.append().` Посмотрим, как создать новый список на основе старого с помощью цикла.\n",
    "\n",
    "Пусть у нас есть список целых чисел `numbers`:"
   ]
  },
  {
   "cell_type": "code",
   "execution_count": 1,
   "metadata": {},
   "outputs": [],
   "source": [
    "numbers = [3, 0, 5, 6, -3, 20, 7]"
   ]
  },
  {
   "cell_type": "markdown",
   "metadata": {},
   "source": [
    "Создадим теперь пустой список `squares` и заполним его квадратами чисел из `numbers`:"
   ]
  },
  {
   "cell_type": "code",
   "execution_count": 2,
   "metadata": {},
   "outputs": [
    {
     "name": "stdout",
     "output_type": "stream",
     "text": [
      "[9, 0, 25, 36, 9, 400, 49]\n"
     ]
    }
   ],
   "source": [
    "squares = []\n",
    "for n in numbers:\n",
    "    squares.append(n ** 2)\n",
    "print(squares)"
   ]
  },
  {
   "cell_type": "markdown",
   "metadata": {},
   "source": [
    "**NB.** В Python цикл `for` работает с самими элементами, а не с их индексами. Нет разделения подобного `for` и `foreach` как в некоторых других языках."
   ]
  },
  {
   "cell_type": "markdown",
   "metadata": {},
   "source": [
    "Теперь рассмотрим решение той же задачи, но с помощью списковых включений:"
   ]
  },
  {
   "cell_type": "code",
   "execution_count": 3,
   "metadata": {},
   "outputs": [
    {
     "name": "stdout",
     "output_type": "stream",
     "text": [
      "[9, 0, 25, 36, 9, 400, 49]\n"
     ]
    }
   ],
   "source": [
    "squares = [n ** 2 for n in numbers]\n",
    "print(squares)"
   ]
  },
  {
   "cell_type": "markdown",
   "metadata": {},
   "source": [
    "Как устроен генератор списка? Во-первых, код для преобразований элементов старого списка записывается в квадратных скобках, так как мы создаем новый список. Во-вторых, мы пишем тот же код, что и в случае с циклом, но «раскручиваем» его с конца: сначала указываем, что за операцию надо выполнить, а потом – для каких элементов ее повторить.\n",
    "\n",
    "Теперь давайте проверим, что код с генератором списка работает быстрее. В начале ячейки (это обязательно должна быть первая строка, если первой строкой будет идти что-то еще, даже комментарий, ничего не сработает) напишем «магическую строку `%%timeit`. «Магическая строка» – это официальное название, так называются строки кода в Jupyter, которые начинаются с `%%` и отвечают за режим исполнения ячейки в Jupyter Notebook. В данном случае команда `timeit` отвечает за измерение времени исполнения кода.\n",
    "\n",
    "Для примера возьмем какой-нибудь список побольше – создадим список из кубов целых чисел от 1 до 10000 включительно на основе `range()`. Сначала сделаем это с помощью цикла и `.append()`:"
   ]
  },
  {
   "cell_type": "code",
   "execution_count": 5,
   "metadata": {},
   "outputs": [
    {
     "name": "stdout",
     "output_type": "stream",
     "text": [
      "2.94 ms ± 47.4 µs per loop (mean ± std. dev. of 7 runs, 100 loops each)\n"
     ]
    }
   ],
   "source": [
    "%%timeit\n",
    "squares = []\n",
    "for n in range(1, 10001):\n",
    "    squares.append(n ** 2)"
   ]
  },
  {
   "cell_type": "markdown",
   "metadata": {},
   "source": [
    "Выдача сообщает нам, что ячейка с кодом выше была запущена 7 раз по 100 раз, и что среднее время выполнения кода за такое число прогонов равно 2.94 милисекундам, а стандартное отклонение равно 47.4 микросекундам (на каждой системе в разное время будут свои числа). Почему недостаточно прогнать код один раз? Потому что хочется получить более общие результаты, с учетом разных факторов. Каждую секунду на компьютере выполняется множество процессов, которые мы явно не видим, но которые влияют на время исполнения кода. Поэтому, запуская ячейку много раз, Jupyter пытается оценить скорость выполнения кода в разные моменты времени и вывести сводные характеристики результатов.\n",
    "\n",
    "Теперь проделаем то же самое, но для генератора списка:"
   ]
  },
  {
   "cell_type": "code",
   "execution_count": 7,
   "metadata": {},
   "outputs": [
    {
     "name": "stdout",
     "output_type": "stream",
     "text": [
      "2.65 ms ± 48.6 µs per loop (mean ± std. dev. of 7 runs, 100 loops each)\n"
     ]
    }
   ],
   "source": [
    "%%timeit\n",
    "squares = [n ** 2 for n in range(1, 10001)]"
   ]
  },
  {
   "cell_type": "markdown",
   "metadata": {},
   "source": [
    "Хотя результаты у всех получаются разные, в любом случае нетрудно заметить, что исполнение кода с генератором списка заняло меньше времени, чем исполнение кода с циклом."
   ]
  },
  {
   "cell_type": "markdown",
   "metadata": {},
   "source": [
    "### Функция `map()` как аналог цикла `for`\n",
    "\n",
    "В Python также есть функция `map()`, которая позволяет применять готовую функцию ко всем элементам списка/кортежа, безо всяких циклов и их аналогов. Допустим, у нас есть готовая функция `int()`, которая превращает строку в целое число, и список строк, которые необходимо преобразовать в целочисленные значения."
   ]
  },
  {
   "cell_type": "code",
   "execution_count": 8,
   "metadata": {},
   "outputs": [
    {
     "data": {
      "text/plain": [
       "29"
      ]
     },
     "execution_count": 8,
     "metadata": {},
     "output_type": "execute_result"
    }
   ],
   "source": [
    "int(\"23\") + int(\"6\")"
   ]
  },
  {
   "cell_type": "code",
   "execution_count": 9,
   "metadata": {},
   "outputs": [],
   "source": [
    "vals = [\"2\", \"6\", \"9\"]"
   ]
  },
  {
   "cell_type": "markdown",
   "metadata": {},
   "source": [
    "Применим функцию `map()`:"
   ]
  },
  {
   "cell_type": "code",
   "execution_count": 10,
   "metadata": {},
   "outputs": [
    {
     "data": {
      "text/plain": [
       "<map at 0x10d161350>"
      ]
     },
     "execution_count": 10,
     "metadata": {},
     "output_type": "execute_result"
    }
   ],
   "source": [
    "map(int, vals)"
   ]
  },
  {
   "cell_type": "markdown",
   "metadata": {},
   "source": [
    "Мы получили «скрытый» объект типа `map`, временно сохранённый в ячейку памяти. Элементы внутри этого объекта можно перебирать в цикле, не сохраняя полученные результаты в какой-нибудь список или кортеж:"
   ]
  },
  {
   "cell_type": "code",
   "execution_count": 11,
   "metadata": {},
   "outputs": [
    {
     "name": "stdout",
     "output_type": "stream",
     "text": [
      "2 <class 'int'>\n",
      "6 <class 'int'>\n",
      "9 <class 'int'>\n"
     ]
    }
   ],
   "source": [
    "for i in map(int, vals):\n",
    "    print(i, type(i))"
   ]
  },
  {
   "cell_type": "markdown",
   "metadata": {},
   "source": [
    "Однако если нам нужны сами значения, более «материальный» перечень объектов, результат типа `map` можно преобразовать в список или кортеж:"
   ]
  },
  {
   "cell_type": "code",
   "execution_count": 12,
   "metadata": {},
   "outputs": [
    {
     "name": "stdout",
     "output_type": "stream",
     "text": [
      "[2, 6, 9]\n",
      "(2, 6, 9)\n"
     ]
    }
   ],
   "source": [
    "print(list(map(int, vals)))\n",
    "print(tuple(map(int, vals)))"
   ]
  },
  {
   "cell_type": "markdown",
   "metadata": {},
   "source": [
    "Как нам воспользоваться функцией `map()` для решения предыдущей задачи для создания списка с квадратами чисел? \n",
    "Мы можем написать соответствующую анонимную lambda-функцию и поместить её на место первого аргумента:"
   ]
  },
  {
   "cell_type": "code",
   "execution_count": 13,
   "metadata": {},
   "outputs": [
    {
     "name": "stdout",
     "output_type": "stream",
     "text": [
      "[9, 0, 25, 36, 9, 400, 49]\n"
     ]
    }
   ],
   "source": [
    "# lambda x: на вход принимает аргумент x\n",
    "# возвращает x ** 2\n",
    "\n",
    "squares = list(map(lambda x: x ** 2, numbers))\n",
    "print(squares)"
   ]
  },
  {
   "cell_type": "markdown",
   "metadata": {},
   "source": [
    "Сравним три рассмотренных способа создания списка `squares` с точки зрения временных затрат:"
   ]
  },
  {
   "cell_type": "code",
   "execution_count": 14,
   "metadata": {},
   "outputs": [
    {
     "name": "stdout",
     "output_type": "stream",
     "text": [
      "2.9 ms ± 21.4 µs per loop (mean ± std. dev. of 7 runs, 100 loops each)\n"
     ]
    }
   ],
   "source": [
    "%%timeit\n",
    "squares = []\n",
    "for n in range(1, 10001):\n",
    "    squares.append(n ** 2)"
   ]
  },
  {
   "cell_type": "code",
   "execution_count": 15,
   "metadata": {},
   "outputs": [
    {
     "name": "stdout",
     "output_type": "stream",
     "text": [
      "2.55 ms ± 17.7 µs per loop (mean ± std. dev. of 7 runs, 100 loops each)\n"
     ]
    }
   ],
   "source": [
    "%%timeit\n",
    "squares = [n ** 2 for n in range(1, 10001)]"
   ]
  },
  {
   "cell_type": "code",
   "execution_count": 16,
   "metadata": {},
   "outputs": [
    {
     "name": "stdout",
     "output_type": "stream",
     "text": [
      "2.87 ms ± 39.9 µs per loop (mean ± std. dev. of 7 runs, 100 loops each)\n"
     ]
    }
   ],
   "source": [
    "%%timeit\n",
    "squares = list(map(lambda x: x ** 2, range(1, 10001)))"
   ]
  },
  {
   "cell_type": "markdown",
   "metadata": {},
   "source": [
    "Самый быстрый способ – списковые включения, самый медленный – обычный цикл `for`, вариант с `map()` немного быстрее обычного цикла."
   ]
  },
  {
   "cell_type": "markdown",
   "metadata": {},
   "source": [
    "### Уточнения про функцию `range()`"
   ]
  },
  {
   "cell_type": "markdown",
   "metadata": {},
   "source": [
    "Функция `range()` позволяет перебирать целые числа на заданном промежутке, не создавая при этом сам список чисел:"
   ]
  },
  {
   "cell_type": "code",
   "execution_count": 18,
   "metadata": {},
   "outputs": [
    {
     "data": {
      "text/plain": [
       "range(1, 11)"
      ]
     },
     "execution_count": 18,
     "metadata": {},
     "output_type": "execute_result"
    }
   ],
   "source": [
    "range(1, 11)"
   ]
  },
  {
   "cell_type": "markdown",
   "metadata": {},
   "source": [
    "Есть небольшая проблема: из-за того, что список с числами не создаётся явно и не занимает память, элементы внутри `range()` мы не видим.\n",
    "Как мы уже могли заметить (и да, с `map()` похожая история), проходить по элементам в цикле это не мешает:"
   ]
  },
  {
   "cell_type": "code",
   "execution_count": 19,
   "metadata": {},
   "outputs": [
    {
     "name": "stdout",
     "output_type": "stream",
     "text": [
      "1 1\n",
      "2 4\n",
      "3 9\n",
      "4 16\n",
      "5 25\n",
      "6 36\n",
      "7 49\n",
      "8 64\n",
      "9 81\n",
      "10 100\n"
     ]
    }
   ],
   "source": [
    "for i in range(1, 11):\n",
    "    print(i, i ** 2)"
   ]
  },
  {
   "cell_type": "markdown",
   "metadata": {},
   "source": [
    "Однако можно преобразовать результат в список и посмотреть на него явно:"
   ]
  },
  {
   "cell_type": "code",
   "execution_count": 20,
   "metadata": {},
   "outputs": [
    {
     "data": {
      "text/plain": [
       "[1, 2, 3, 4, 5, 6, 7, 8, 9, 10]"
      ]
     },
     "execution_count": 20,
     "metadata": {},
     "output_type": "execute_result"
    }
   ],
   "source": [
    "list(range(1, 11))"
   ]
  },
  {
   "cell_type": "markdown",
   "metadata": {},
   "source": [
    "Правый конец заданного в `range()` промежутка не включается, будьте бдительны. В примере выше на экран были выведены числа от 1 до 10, число 11 включено не было.\n",
    "\n",
    "Если мы не хотим получать список чисел явно, а хотим просто вывести на экран элементы одной строкой, можно вспомнить про оператор `*`, он умеет «распаковывать» последовательности элементов для их вывода на экран через `print()`:"
   ]
  },
  {
   "cell_type": "code",
   "execution_count": 21,
   "metadata": {},
   "outputs": [
    {
     "name": "stdout",
     "output_type": "stream",
     "text": [
      "1 2 3 4 5 6 7 8 9 10\n"
     ]
    }
   ],
   "source": [
    "# извлекаются числа и печатаются через пробел\n",
    "print(*range(1, 11))"
   ]
  },
  {
   "cell_type": "markdown",
   "metadata": {},
   "source": [
    "**Полезный факт №1.** Если нас интересуют числа на промежутке, начиная с нуля, в `range()` левый конец можно не указывать, 0 будет выбран по умолчанию."
   ]
  },
  {
   "cell_type": "code",
   "execution_count": 22,
   "metadata": {},
   "outputs": [
    {
     "data": {
      "text/plain": [
       "[0, 1, 2, 3, 4, 5, 6, 7, 8, 9, 10]"
      ]
     },
     "execution_count": 22,
     "metadata": {},
     "output_type": "execute_result"
    }
   ],
   "source": [
    "list(range(11))"
   ]
  },
  {
   "cell_type": "markdown",
   "metadata": {},
   "source": [
    "**Полезный факт №2.** Внутри `range()` можно указать любой целочисленный шаг для получения нужной последовательности чисел (по умолчанию шаг равен 1)."
   ]
  },
  {
   "cell_type": "code",
   "execution_count": 23,
   "metadata": {},
   "outputs": [
    {
     "data": {
      "text/plain": [
       "[1, 3, 5, 7, 9, 11, 13, 15]"
      ]
     },
     "execution_count": 23,
     "metadata": {},
     "output_type": "execute_result"
    }
   ],
   "source": [
    "# шаг 2, только нечётные числа от 1 до 17, исключая 17\n",
    "\n",
    "list(range(1, 17, 2))"
   ]
  },
  {
   "cell_type": "markdown",
   "metadata": {},
   "source": [
    "Шаг внутри `range()` может быть и отрицательным, тогда мы получим последовательность, отсортированную по убыванию. В таком случае сначала нужно указывать правый конец интервала, а потом – левый."
   ]
  },
  {
   "cell_type": "code",
   "execution_count": 24,
   "metadata": {},
   "outputs": [
    {
     "data": {
      "text/plain": [
       "[16, 14, 12, 10, 8, 6, 4, 2]"
      ]
     },
     "execution_count": 24,
     "metadata": {},
     "output_type": "execute_result"
    }
   ],
   "source": [
    "list(range(16, 0, -2))"
   ]
  },
  {
   "cell_type": "markdown",
   "metadata": {},
   "source": [
    "Если сначала указать меньшее значение, то мы получим пустой список. Это происходит потому, что мы даём Python противоречивые указания – `range()` двигается всегда слева направо, а отрицательный шаг предполагает движение справа налево:"
   ]
  },
  {
   "cell_type": "code",
   "execution_count": 25,
   "metadata": {},
   "outputs": [
    {
     "data": {
      "text/plain": [
       "[]"
      ]
     },
     "execution_count": 25,
     "metadata": {},
     "output_type": "execute_result"
    }
   ],
   "source": [
    "list(range(0, 16, -2))"
   ]
  }
 ],
 "metadata": {
  "kernelspec": {
   "display_name": "Python 3",
   "language": "python",
   "name": "python3"
  },
  "language_info": {
   "codemirror_mode": {
    "name": "ipython",
    "version": 3
   },
   "file_extension": ".py",
   "mimetype": "text/x-python",
   "name": "python",
   "nbconvert_exporter": "python",
   "pygments_lexer": "ipython3",
   "version": "3.7.4"
  }
 },
 "nbformat": 4,
 "nbformat_minor": 2
}
