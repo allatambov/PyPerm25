{
 "cells": [
  {
   "cell_type": "markdown",
   "metadata": {},
   "source": [
    "# Анализ данных на Python\n",
    "\n",
    "*Алла Тамбовцева, НИУ ВШЭ*\n",
    "\n",
    "## Списки vs массивы NumPy\n",
    "\n",
    "## Часть 1: ещё немного про списки и функцию `zip()`"
   ]
  },
  {
   "cell_type": "markdown",
   "metadata": {},
   "source": [
    "Пусть у нас есть три списка:"
   ]
  },
  {
   "cell_type": "code",
   "execution_count": 1,
   "metadata": {},
   "outputs": [],
   "source": [
    "valid = [450, 800, 630, 740, 950]\n",
    "invalid = [10, 200, 100, 50, 120]\n",
    "total = [900, 1000, 1200, 890, 2300]"
   ]
  },
  {
   "cell_type": "markdown",
   "metadata": {},
   "source": [
    "В списке `valid` хранится число действительных бюллетеней на пяти избирательных участках, в списке `invalid` – число недействительных бюллетеней, а в списке `total` – общее число зарегистрированных избирателей. Наша задача – получить список со значениями явки в процентах с точностью до второго знака после запятой. \n",
    "\n",
    "Рассмотрим самое прямое, «классическое» решение. В данном случае все списки одинаковой длины, поэтому мы можем пройтись в цикле по индексам элементов и извлечь элементы сразу из трёх списков:"
   ]
  },
  {
   "cell_type": "code",
   "execution_count": 2,
   "metadata": {},
   "outputs": [
    {
     "name": "stdout",
     "output_type": "stream",
     "text": [
      "[51.11, 100.0, 60.83, 88.76, 46.52]\n"
     ]
    }
   ],
   "source": [
    "# явка = (действительные + недействительные) / общее число избирателей\n",
    "# переводим в проценты и округляем до сотых\n",
    "\n",
    "turnout = []\n",
    "for i in range(len(valid)):\n",
    "    res = round((valid[i] + invalid[i]) / total[i] * 100, 2)\n",
    "    turnout.append(res)\n",
    "print(turnout)"
   ]
  },
  {
   "cell_type": "markdown",
   "metadata": {},
   "source": [
    "Решение рабочее, но не «питоновское». В Python не рекомендуется использовать цикл `for` в сочетании с `range(len())`, поскольку почти всегда можно найти альтернативу без перебора индексов. В данном случае поможет функция `zip()`. Название этой функции говорящее – она как «молния» на одежде соединяет списки одинаковой длины, образуя пары/тройки/четверки элементов, в зависимости от количества списков:"
   ]
  },
  {
   "cell_type": "code",
   "execution_count": 3,
   "metadata": {},
   "outputs": [
    {
     "name": "stdout",
     "output_type": "stream",
     "text": [
      "[(450, 10), (800, 200), (630, 100), (740, 50), (950, 120)]\n"
     ]
    }
   ],
   "source": [
    "# list(), так как zip() создает временный скрытый объект\n",
    "# как range() и map(), например\n",
    "\n",
    "print(list(zip(valid, invalid)))"
   ]
  },
  {
   "cell_type": "code",
   "execution_count": 4,
   "metadata": {},
   "outputs": [
    {
     "name": "stdout",
     "output_type": "stream",
     "text": [
      "[(450, 10, 900), (800, 200, 1000), (630, 100, 1200), (740, 50, 890), (950, 120, 2300)]\n"
     ]
    }
   ],
   "source": [
    "print(list(zip(valid, invalid, total)))"
   ]
  },
  {
   "cell_type": "markdown",
   "metadata": {},
   "source": [
    "Как можно заметить, результат, полученный с `zip()`, можно преобразовать в список, тогда это будет список кортежей. Вложенная структура, для выбора элементов в такой структуре потребуется двойная индексация:"
   ]
  },
  {
   "cell_type": "code",
   "execution_count": 5,
   "metadata": {},
   "outputs": [
    {
     "data": {
      "text/plain": [
       "[(450, 10, 900),\n",
       " (800, 200, 1000),\n",
       " (630, 100, 1200),\n",
       " (740, 50, 890),\n",
       " (950, 120, 2300)]"
      ]
     },
     "execution_count": 5,
     "metadata": {},
     "output_type": "execute_result"
    }
   ],
   "source": [
    "M = list(zip(valid, invalid, total))\n",
    "M"
   ]
  },
  {
   "cell_type": "code",
   "execution_count": 6,
   "metadata": {},
   "outputs": [
    {
     "name": "stdout",
     "output_type": "stream",
     "text": [
      "10\n",
      "1200\n",
      "900\n"
     ]
    }
   ],
   "source": [
    "# второй элемент из первого кортежа\n",
    "print(M[0][1])\n",
    "\n",
    "# третий элемент из третьего кортежа\n",
    "print(M[2][2])\n",
    "\n",
    "# последний элемент из первого кортежа\n",
    "print(M[0][-1])"
   ]
  },
  {
   "cell_type": "markdown",
   "metadata": {},
   "source": [
    "Теперь сделаем перебор по полученному списку троек:"
   ]
  },
  {
   "cell_type": "code",
   "execution_count": 7,
   "metadata": {},
   "outputs": [
    {
     "name": "stdout",
     "output_type": "stream",
     "text": [
      "[51.11, 100.0, 60.83, 88.76, 46.52]\n"
     ]
    }
   ],
   "source": [
    "turnout = []\n",
    "\n",
    "# triple – тройка значений\n",
    "\n",
    "for triple in zip(valid, invalid, total):\n",
    "    res = round((triple[0] + triple[1]) / triple[2] * 100, 2)\n",
    "    turnout.append(res)\n",
    "print(turnout)"
   ]
  },
  {
   "cell_type": "markdown",
   "metadata": {},
   "source": [
    "Уже получше, но всё равно остались индексы 0, 1, 2. Ещё раз упорстим код, воспользуемся тем, что Python умеет выполнять перебор в цикле `for` сразу по нескольким элементам, если мы укажем их через запятую:"
   ]
  },
  {
   "cell_type": "code",
   "execution_count": 8,
   "metadata": {},
   "outputs": [
    {
     "name": "stdout",
     "output_type": "stream",
     "text": [
      "[51.11, 100.0, 60.83, 88.76, 46.52]\n"
     ]
    }
   ],
   "source": [
    "# v – всегда первый элемент в каждой паре\n",
    "# i – всегда второй элемент в каждой паре\n",
    "# v – всегда третий элемент в каждой паре\n",
    "\n",
    "turnout = []\n",
    "for v, i, t in zip(valid, invalid, total):\n",
    "    res = round((v + i) / t * 100, 2)\n",
    "    turnout.append(res)\n",
    "print(turnout)"
   ]
  },
  {
   "cell_type": "markdown",
   "metadata": {},
   "source": [
    "Такой перебор возможен благодаря тому, что Python поддерживает множественное присваивание (*multiple assignment*): перечни элементов через запятую он сам объединяет в кортеж, а потом понимает, что первый элемент кортежа надо записать в первую переменную, второй – во вторую, и так далее:"
   ]
  },
  {
   "cell_type": "code",
   "execution_count": 9,
   "metadata": {},
   "outputs": [
    {
     "name": "stdout",
     "output_type": "stream",
     "text": [
      "0\n",
      "1\n"
     ]
    }
   ],
   "source": [
    "a, b = 0, 1\n",
    "print(a)\n",
    "print(b)"
   ]
  },
  {
   "cell_type": "markdown",
   "metadata": {},
   "source": [
    "Чтобы написать совсем компактный код, который, на этот раз, будет ещё и по скорости исполнения выигрывать, перепишем последний цикл через списковое включение:"
   ]
  },
  {
   "cell_type": "code",
   "execution_count": 10,
   "metadata": {},
   "outputs": [
    {
     "name": "stdout",
     "output_type": "stream",
     "text": [
      "[51.11, 100.0, 60.83, 88.76, 46.52]\n"
     ]
    }
   ],
   "source": [
    "turnout = [round((v + i) / t * 100, 2) for v, i, t in zip(valid, invalid, total)] \n",
    "print(turnout)"
   ]
  },
  {
   "cell_type": "markdown",
   "metadata": {},
   "source": [
    "Чтобы решить эту задачу ещё более эффективно, имеет смысл перейти к массивам."
   ]
  },
  {
   "cell_type": "markdown",
   "metadata": {},
   "source": [
    "## Часть 2: массивы NumPy"
   ]
  },
  {
   "cell_type": "markdown",
   "metadata": {},
   "source": [
    "Сегодня мы познакомимся с библиотекой NumPy (сокращение от *Numeric Python*), которая часто используется в задачах, связанных с анализом данных и машинным обучением.\n",
    "\n",
    "Чтобы мы смогли на конкретных примерах увидеть, зачем эта библиотека используется, давайте её импортируем. Если вы уже устанавливали Anaconda, то библиотека NumPy также была установлена на ваш компьютер. Проверим: импортируем библиотеку с сокращенным названием, так часто делают, чтобы не «таскать» за собой в коде длинное название. Сокращение `np` для библиотеки `numpy` – общепринятое, его часто можно увидеть в документации или официальных тьюториалах."
   ]
  },
  {
   "cell_type": "code",
   "execution_count": 11,
   "metadata": {},
   "outputs": [],
   "source": [
    "import numpy as np"
   ]
  },
  {
   "cell_type": "markdown",
   "metadata": {},
   "source": [
    "Если библиотека не найдена, её можно установить через команду `pip install` (восклицательный знак в начале сообщает Jupyter, что далее следует не код на Python, а специальная команда, как будто бы запущенная из консоли, если и так запускаете из консоли, то он не нужен):"
   ]
  },
  {
   "cell_type": "code",
   "execution_count": null,
   "metadata": {},
   "outputs": [],
   "source": [
    "!pip install numpy"
   ]
  },
  {
   "cell_type": "markdown",
   "metadata": {},
   "source": [
    "Если библиотека уже установлена, устанавливать повторно её не требуется, достаточно просто импортировать. Если библиотека установлена и вы точно знаете, что версия старая, можно запросить принудительную установку более новой версии с помощью опции `--upgrade`."
   ]
  },
  {
   "cell_type": "code",
   "execution_count": null,
   "metadata": {},
   "outputs": [],
   "source": [
    "!pip install numpy --upgrade"
   ]
  },
  {
   "cell_type": "markdown",
   "metadata": {},
   "source": [
    "Почему такую установку можно считать «принудительной»? Команда `pip install` действует так: проверяет наличие библиотеки на компьютере или в конкретной рабочей среде, и если хотя бы какая-то версия библиотеки присутствует, установка не производится. Поэтому, добавляя опцию `--upgrade` мы в любом случае инициализируем установку."
   ]
  },
  {
   "cell_type": "markdown",
   "metadata": {},
   "source": [
    "Основным объектом NumPy является *Ndarray* – это n-мерный массив (от *n-dimensional array*), структура данных, которая позволяет хранить набор элементов одного типа: либо целые числа, либо числа с плавающей точкой, либо строки, либо логические значения `True` и `False`. Массивы могут быть одномерными, то есть визуально ничем не отличаться от простого списка значений, а могут быть многомерными. \n",
    "\n",
    "Как раз с одномерных массивов мы начнём, преобразуем списки `valid`, `invalid` и `total` в массивы, чтобы закончить с задачей из первой части."
   ]
  },
  {
   "cell_type": "code",
   "execution_count": 12,
   "metadata": {},
   "outputs": [],
   "source": [
    "Valid = np.array(valid)\n",
    "Invalid = np.array(invalid)\n",
    "Total = np.array(total)"
   ]
  },
  {
   "cell_type": "markdown",
   "metadata": {},
   "source": [
    "Операции на массивах векторизованы – они применяются сразу ко всем элементам массива без циклов и аналогичных конструкций. В нашем случае это означает, что мы можем просто сложить два первых массива:"
   ]
  },
  {
   "cell_type": "code",
   "execution_count": 13,
   "metadata": {},
   "outputs": [
    {
     "data": {
      "text/plain": [
       "array([ 460, 1000,  730,  790, 1070])"
      ]
     },
     "execution_count": 13,
     "metadata": {},
     "output_type": "execute_result"
    }
   ],
   "source": [
    "Valid + Invalid"
   ]
  },
  {
   "cell_type": "markdown",
   "metadata": {},
   "source": [
    "С обычными списками так бы не получилось, на делении всё бы сломалось, сложение даёт не тот результат:"
   ]
  },
  {
   "cell_type": "code",
   "execution_count": 14,
   "metadata": {},
   "outputs": [
    {
     "data": {
      "text/plain": [
       "[450, 800, 630, 740, 950, 10, 200, 100, 50, 120]"
      ]
     },
     "execution_count": 14,
     "metadata": {},
     "output_type": "execute_result"
    }
   ],
   "source": [
    "valid + invalid"
   ]
  },
  {
   "cell_type": "markdown",
   "metadata": {},
   "source": [
    "Оператор `+`, применяемый к двум спискам, возвращает новый список – результат их конкатенации (склеивания). Так в Python проявляется перегрузка операторов: для чисел `+` выполняет обычное сложение, для последовательностей – склеивание:"
   ]
  },
  {
   "cell_type": "code",
   "execution_count": 15,
   "metadata": {},
   "outputs": [
    {
     "name": "stdout",
     "output_type": "stream",
     "text": [
      "[2, 4, 5, 6]\n",
      "(2, 0, 6, 3, 3, 3, 0)\n",
      "abc-cde\n"
     ]
    }
   ],
   "source": [
    "print([2, 4] + [5, 6])\n",
    "print((2, 0, 6) + (3, 3, 3, 0))\n",
    "print(\"abc\" + \"-\" + \"cde\")"
   ]
  },
  {
   "cell_type": "markdown",
   "metadata": {},
   "source": [
    "С массивами такого не происходит, сложение, как мы видели, выполняется поэлементно. Осталось выполнить остальные операции для нахождения явки:"
   ]
  },
  {
   "cell_type": "code",
   "execution_count": 16,
   "metadata": {},
   "outputs": [
    {
     "name": "stdout",
     "output_type": "stream",
     "text": [
      "[ 51.11 100.    60.83  88.76  46.52]\n"
     ]
    }
   ],
   "source": [
    "# плюс метод .round()\n",
    "# определен на массивах\n",
    "\n",
    "Turnout = ((Valid + Invalid) / Total * 100).round(2)\n",
    "print(Turnout)"
   ]
  },
  {
   "cell_type": "markdown",
   "metadata": {},
   "source": [
    "Зачем изучать массивы? Во-первых, как мы убедились, с массивами гораздо приятнее работать, чем со списками, плюс, они занимают меньше памяти. Во-вторых, особенности массивов позволят нам лучше понять, как устроены столбцы в датафреймах (таблицах с данными), с которыми нам предстоит работать дальше."
   ]
  },
  {
   "cell_type": "markdown",
   "metadata": {},
   "source": [
    "### Типы данных в массивах и преобразование типов\n",
    "\n",
    "Чуть раньше мы зафиксировали, что массивы могут состоять только из элементов одного типа. Посмотрим, что это за типы:"
   ]
  },
  {
   "cell_type": "code",
   "execution_count": 17,
   "metadata": {},
   "outputs": [
    {
     "name": "stdout",
     "output_type": "stream",
     "text": [
      "[5 7 8 0 6]\n",
      "int64\n"
     ]
    }
   ],
   "source": [
    "# integer: целые числа\n",
    "\n",
    "numbers = np.array([5, 7, 8, 0, 6])\n",
    "print(numbers)\n",
    "print(numbers.dtype)"
   ]
  },
  {
   "cell_type": "code",
   "execution_count": 18,
   "metadata": {},
   "outputs": [
    {
     "name": "stdout",
     "output_type": "stream",
     "text": [
      "[5.6 9.3 2.  9.1]\n",
      "float64\n"
     ]
    }
   ],
   "source": [
    " # float: вещественные числа\n",
    "    \n",
    "decimals = np.array([5.6, 9.3, 2, 9.1])\n",
    "print(decimals)\n",
    "print(decimals.dtype)"
   ]
  },
  {
   "cell_type": "code",
   "execution_count": 19,
   "metadata": {},
   "outputs": [
    {
     "name": "stdout",
     "output_type": "stream",
     "text": [
      "[ True False]\n",
      "bool\n"
     ]
    }
   ],
   "source": [
    "# boolean: логические значения\n",
    "\n",
    "YN = np.array([True, False])\n",
    "print(YN)\n",
    "print(YN.dtype) "
   ]
  },
  {
   "cell_type": "markdown",
   "metadata": {},
   "source": [
    "Числа 64 или 32, дописанные в конце названия типа, показывают, сколько битов NumPy готов зарезервировать под хранение значений, учитывая, что сейчас нет жестких ограничений по памяти, как раньше, на это можно не обращать внимания. А вот на что стоит обратить внимание, так это на то, что после `.dtype` нет круглых скобок. Раньше, когда мы дописывали что-то к объекту после точки, это «что-то» было методом (вспомните методы `.append()` и `.lower()` на списках и строках). Здесь `dtype`  – это не метод, а *атрибут* массива, то есть какая-то его фиксированная характеристика.\n",
    "\n",
    "Три типа рассмотрели, остались строки. Создадим массив со строками:"
   ]
  },
  {
   "cell_type": "code",
   "execution_count": 20,
   "metadata": {},
   "outputs": [
    {
     "name": "stdout",
     "output_type": "stream",
     "text": [
      "<U9\n"
     ]
    }
   ],
   "source": [
    "answers = np.array([\"yes\", \"no\", \"no answer\", \"yes\"])\n",
    "print(answers.dtype)"
   ]
  },
  {
   "cell_type": "markdown",
   "metadata": {},
   "source": [
    "Получили таинственную запись. Но все просто. Буква `U` здесь означает *Unicode* (в этом формате [кодируются](https://ru.wikipedia.org/wiki/%D0%AE%D0%BD%D0%B8%D0%BA%D0%BE%D0%B4) строки), а 9 – это максимальное число символов в строке внутри массива. Поэтому можем считать это строковым типом, где все строки не длиннее 9 символов. \n",
    "\n",
    "В завершение разговора о типах посмотрим, что будет, если мы попытаемся поместить в массив объекты разных типов. Пусть у нас будут названия мячей в квиддиче и число очков, которые они приносят:"
   ]
  },
  {
   "cell_type": "code",
   "execution_count": 21,
   "metadata": {},
   "outputs": [
    {
     "data": {
      "text/plain": [
       "array(['quaffle', '10', 'snitch', '150'], dtype='<U21')"
      ]
     },
     "execution_count": 21,
     "metadata": {},
     "output_type": "execute_result"
    }
   ],
   "source": [
    "balls = np.array([\"quaffle\", 10, \"snitch\", 150])\n",
    "balls"
   ]
  },
  {
   "cell_type": "markdown",
   "metadata": {},
   "source": [
    "Как и ожидалось, строковый тип оказался сильнее и вытеснил числа. Если это допустимо, можем один тип превратить в другой. Впомним про массив `YN`:"
   ]
  },
  {
   "cell_type": "code",
   "execution_count": 22,
   "metadata": {},
   "outputs": [
    {
     "name": "stdout",
     "output_type": "stream",
     "text": [
      "[ True False]\n"
     ]
    }
   ],
   "source": [
    "print(YN)"
   ]
  },
  {
   "cell_type": "markdown",
   "metadata": {},
   "source": [
    "Превратим `True` и `False` в целые числа 1 и 0:"
   ]
  },
  {
   "cell_type": "code",
   "execution_count": 23,
   "metadata": {},
   "outputs": [
    {
     "name": "stdout",
     "output_type": "stream",
     "text": [
      "[1 0]\n"
     ]
    }
   ],
   "source": [
    "YN2 = YN.astype(int) \n",
    "print(YN2)"
   ]
  },
  {
   "cell_type": "markdown",
   "metadata": {},
   "source": [
    "А теперь в обычные строки:"
   ]
  },
  {
   "cell_type": "code",
   "execution_count": 24,
   "metadata": {},
   "outputs": [
    {
     "name": "stdout",
     "output_type": "stream",
     "text": [
      "['True' 'False']\n"
     ]
    }
   ],
   "source": [
    "YN3 = YN.astype(str)\n",
    "print(YN3)"
   ]
  },
  {
   "cell_type": "markdown",
   "metadata": {},
   "source": [
    "**Важно!** Запомните этот полезный метод `.astype()`, он нам еще очень пригодится, когда будем работать с датафреймами."
   ]
  },
  {
   "cell_type": "markdown",
   "metadata": {},
   "source": [
    "### Фильтрация значений по условиям и булевы массивы"
   ]
  },
  {
   "cell_type": "markdown",
   "metadata": {},
   "source": [
    "Представим себе, что у нас есть массив `points` с числом очков, которые заработала команда за одну игру в квиддич:"
   ]
  },
  {
   "cell_type": "code",
   "execution_count": 25,
   "metadata": {},
   "outputs": [],
   "source": [
    "points = np.array([150, 0, 20, 0, 30, 20, 0])"
   ]
  },
  {
   "cell_type": "markdown",
   "metadata": {},
   "source": [
    "Убедимся, что число игроков в команде правильное – должно быть 7 человек. Вызовем атрибут `size`:"
   ]
  },
  {
   "cell_type": "code",
   "execution_count": 26,
   "metadata": {},
   "outputs": [
    {
     "name": "stdout",
     "output_type": "stream",
     "text": [
      "7\n"
     ]
    }
   ],
   "source": [
    "print(points.size)  # все ок"
   ]
  },
  {
   "cell_type": "markdown",
   "metadata": {},
   "source": [
    "**NB.** В случае одномерных массивов, как здесь, значение `.size` и результат `len()` совпадает. В случае многомерных массивов будут различия: `.size` всегда хранит общее число элементов, а `len()` будет считать только элементы самого верхнего уровня. Пример матрицы 2 на 2:"
   ]
  },
  {
   "cell_type": "code",
   "execution_count": 27,
   "metadata": {},
   "outputs": [
    {
     "name": "stdout",
     "output_type": "stream",
     "text": [
      "4\n",
      "2\n"
     ]
    }
   ],
   "source": [
    "# из списка списков\n",
    "# всего 4 элемента\n",
    "# но списков внутри всего 2\n",
    "\n",
    "I = np.array([[0, 1], \n",
    "              [1, 2]])\n",
    "\n",
    "print(I.size)\n",
    "print(len(I))"
   ]
  },
  {
   "cell_type": "markdown",
   "metadata": {},
   "source": [
    "Теперь поинтересуемся, кто из участников набрал больше 0 очков:"
   ]
  },
  {
   "cell_type": "code",
   "execution_count": 28,
   "metadata": {},
   "outputs": [
    {
     "data": {
      "text/plain": [
       "array([ True, False,  True, False,  True,  True, False])"
      ]
     },
     "execution_count": 28,
     "metadata": {},
     "output_type": "execute_result"
    }
   ],
   "source": [
    "points > 0"
   ]
  },
  {
   "cell_type": "markdown",
   "metadata": {},
   "source": [
    "Неравенство выше было автоматически применено к каждому элементу массива, поэтому мы получили новый массив из `True` и `False`, которые сообщают нам, выполнено ли это условие для конкретного элемента или нет. Как посчитать число игроков, которые заработали больше 0 очков? Посчитать число `True`. А если учесть, что вместо `True` Python видит 1, а вместо `False` – 0? Посчитать сумму всех элементов массива:"
   ]
  },
  {
   "cell_type": "code",
   "execution_count": 29,
   "metadata": {},
   "outputs": [
    {
     "data": {
      "text/plain": [
       "4"
      ]
     },
     "execution_count": 29,
     "metadata": {},
     "output_type": "execute_result"
    }
   ],
   "source": [
    "(points > 10).sum()"
   ]
  },
  {
   "cell_type": "markdown",
   "metadata": {},
   "source": [
    "А как получить массив, в котором будут только те элементы `points`, которые удовлетворяют некоторому условию? Записать это условие в квадратных скобках, как раньше мы указывали индекс элемента:"
   ]
  },
  {
   "cell_type": "code",
   "execution_count": 30,
   "metadata": {},
   "outputs": [
    {
     "data": {
      "text/plain": [
       "array([150,  20,  30,  20])"
      ]
     },
     "execution_count": 30,
     "metadata": {},
     "output_type": "execute_result"
    }
   ],
   "source": [
    "points[points > 10]"
   ]
  },
  {
   "cell_type": "markdown",
   "metadata": {},
   "source": [
    "Запись выше означает, что из `points` Python должен выбрать те элементы, где `points > 10` возвращает `True`.\n",
    "\n",
    "Если условия сложные, то их нужно формулировать с помощью операторов, причём NumPy поддерживает только их символьные версии:\n",
    "\n",
    "* `&`: одновременное выполнение условий (аналог стандартного `and`);\n",
    "* `|`: хотя бы одно из условий верно (аналог стандартного `or`);\n",
    "* `^`: ровно одно верно (формально аналог `xor`, но в Python словесного оператора `xor` нет)."
   ]
  },
  {
   "cell_type": "code",
   "execution_count": 31,
   "metadata": {},
   "outputs": [
    {
     "data": {
      "text/plain": [
       "array([20, 20])"
      ]
     },
     "execution_count": 31,
     "metadata": {},
     "output_type": "execute_result"
    }
   ],
   "source": [
    "points[(points > 10) & (points < 30)]"
   ]
  },
  {
   "cell_type": "markdown",
   "metadata": {},
   "source": [
    "«Словесные» операторы `and` и `or` здесь не подойдут. Плюс, всегда нужно ставить скобки вокруг каждой части условия, иначе Python начнет «раскручивать» условие со знаков `&` или `|`, что закончится ошибкой:"
   ]
  },
  {
   "cell_type": "code",
   "execution_count": 32,
   "metadata": {},
   "outputs": [
    {
     "ename": "ValueError",
     "evalue": "The truth value of an array with more than one element is ambiguous. Use a.any() or a.all()",
     "output_type": "error",
     "traceback": [
      "\u001b[0;31m---------------------------------------------------------------------------\u001b[0m",
      "\u001b[0;31mValueError\u001b[0m                                Traceback (most recent call last)",
      "\u001b[0;32m<ipython-input-32-cbbd31fdcf4f>\u001b[0m in \u001b[0;36m<module>\u001b[0;34m\u001b[0m\n\u001b[0;32m----> 1\u001b[0;31m \u001b[0mpoints\u001b[0m\u001b[0;34m[\u001b[0m\u001b[0mpoints\u001b[0m \u001b[0;34m>\u001b[0m \u001b[0;36m10\u001b[0m \u001b[0;34m&\u001b[0m \u001b[0mpoints\u001b[0m \u001b[0;34m<\u001b[0m \u001b[0;36m30\u001b[0m\u001b[0;34m]\u001b[0m  \u001b[0;31m# пытался сопоставить 10 и массив points\u001b[0m\u001b[0;34m\u001b[0m\u001b[0;34m\u001b[0m\u001b[0m\n\u001b[0m",
      "\u001b[0;31mValueError\u001b[0m: The truth value of an array with more than one element is ambiguous. Use a.any() or a.all()"
     ]
    }
   ],
   "source": [
    "points[points > 10 & points < 30]  # пытался сопоставить 10 и массив points"
   ]
  },
  {
   "cell_type": "markdown",
   "metadata": {},
   "source": [
    "Если нужны индексы элементов, удовлетворяющих условиям, можно воспользоваться функцией `where()`:"
   ]
  },
  {
   "cell_type": "code",
   "execution_count": 33,
   "metadata": {},
   "outputs": [
    {
     "data": {
      "text/plain": [
       "(array([0, 2, 4, 5]),)"
      ]
     },
     "execution_count": 33,
     "metadata": {},
     "output_type": "execute_result"
    }
   ],
   "source": [
    "np.where(points > 0)"
   ]
  },
  {
   "cell_type": "markdown",
   "metadata": {},
   "source": [
    "**NB.** Функция `where()` всегда проверяет условие для массива по всем измерениям. Здесь оно одно, но результат выдан как будто бы для двух, просто второе место пустое (пустота после запятой). Извлечём индексы в виде одного массива, который при желании можно будет превратить в список:"
   ]
  },
  {
   "cell_type": "code",
   "execution_count": 34,
   "metadata": {},
   "outputs": [
    {
     "data": {
      "text/plain": [
       "array([0, 2, 4, 5])"
      ]
     },
     "execution_count": 34,
     "metadata": {},
     "output_type": "execute_result"
    }
   ],
   "source": [
    "np.where(points > 0)[0]"
   ]
  },
  {
   "cell_type": "code",
   "execution_count": 35,
   "metadata": {},
   "outputs": [
    {
     "data": {
      "text/plain": [
       "[0, 2, 4, 5]"
      ]
     },
     "execution_count": 35,
     "metadata": {},
     "output_type": "execute_result"
    }
   ],
   "source": [
    "list(np.where(points > 0)[0])"
   ]
  }
 ],
 "metadata": {
  "kernelspec": {
   "display_name": "Python 3",
   "language": "python",
   "name": "python3"
  },
  "language_info": {
   "codemirror_mode": {
    "name": "ipython",
    "version": 3
   },
   "file_extension": ".py",
   "mimetype": "text/x-python",
   "name": "python",
   "nbconvert_exporter": "python",
   "pygments_lexer": "ipython3",
   "version": "3.7.4"
  }
 },
 "nbformat": 4,
 "nbformat_minor": 2
}
