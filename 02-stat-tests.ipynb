{
 "cells": [
  {
   "cell_type": "markdown",
   "metadata": {},
   "source": [
    "# Анализ данных на Python\n",
    "\n",
    "*Алла Тамбовцева*\n",
    "\n",
    "## Примеры статистических тестов"
   ]
  },
  {
   "cell_type": "code",
   "execution_count": null,
   "metadata": {},
   "outputs": [],
   "source": [
    "import numpy as np\n",
    "from scipy import stats\n",
    "from statsmodels.stats.proportion import proportions_ztest"
   ]
  },
  {
   "cell_type": "markdown",
   "metadata": {},
   "source": [
    "### Задача 1\n",
    "\n",
    "Даны два списка. В списке `server1` сохранены отметки о том, перешли ли покупатели к оформлению заказа в текущем дизайне сайта интернет-магазина (1 – да, 0 – нет), в списке `server2` – аналогичные отметки для сайта в обновлённом дизайне. Известно, что посетители сайта в текущем и обновлённом дизайне – разные люди, то есть выборки независимы."
   ]
  },
  {
   "cell_type": "code",
   "execution_count": null,
   "metadata": {},
   "outputs": [],
   "source": [
    "server1 = [0, 0, 0, 0, 1, 0, 0, 1, 0, 0, \n",
    "           0, 0, 0, 1, 0, 0, 0, 0, 0, 0, \n",
    "           0, 0, 0, 0, 0, 0, 0, 0, 0, 0, \n",
    "           0, 1, 0, 1, 0, 0, 0, 0, 0, 0]\n",
    "\n",
    "server2 = [0, 0, 1, 1, 1, 0, 1, 0, 0, 1, \n",
    "           0, 1, 0, 0, 0, 1, 0, 0, 0, 1, \n",
    "           0, 0, 0, 1, 0, 0, 0, 1, 0, 0,\n",
    "           0, 1]"
   ]
  },
  {
   "cell_type": "markdown",
   "metadata": {},
   "source": [
    "Используя шаблон кода для функции `proportions_ztest()` ниже, проверьте гипотезу $H_0: p_1 = p_2$ против правосторонней альтернативы, приняв уровень значимости равным 5%."
   ]
  },
  {
   "cell_type": "code",
   "execution_count": null,
   "metadata": {},
   "outputs": [],
   "source": [
    "### YOUR CODE HERE ###"
   ]
  },
  {
   "cell_type": "code",
   "execution_count": null,
   "metadata": {},
   "outputs": [],
   "source": [
    "# s1 – число успехов в первой выборке\n",
    "# s2 – число успехов во второй выборке\n",
    "# n1, n2 – объемы выборок\n",
    "# alternative: 'two-sided', 'smaller', 'larger'\n",
    "\n",
    "print(proportions_ztest(count = [s1, s2], \n",
    "                             nobs = [n1, n2], \n",
    "                             alternative = \"smaller\"))"
   ]
  },
  {
   "cell_type": "markdown",
   "metadata": {},
   "source": [
    "### Задача 2\n",
    "\n",
    "Дан массив значений, которые представляют собой закодированную степень согласия с утверждением:\n",
    "\n",
    "* 1 – абсолютно не согласен,\n",
    "* 2 – не согласен,\n",
    "* 3 – согласен,\n",
    "* 4 – абсолютно согласен.\n",
    "\n",
    "Пусть нас интересует доля согласных с утверждением – доля ответов 3 и 4.\n",
    "\n",
    "Используя шаблон кода для функции `binomtest()` ниже, проверьте гипотезу $H_0: p = 0.4$ против двусторонней альтернативы, приняв уровень значимости равным 5%."
   ]
  },
  {
   "cell_type": "code",
   "execution_count": null,
   "metadata": {},
   "outputs": [],
   "source": [
    "poll = np.array([3, 4, 1, 2, 3, 4, 2, 1, 3, 4,\n",
    "                 1, 2, 4, 3, 1, 2, 3, 4, 3, 4])"
   ]
  },
  {
   "cell_type": "code",
   "execution_count": null,
   "metadata": {},
   "outputs": [],
   "source": [
    "### YOUR CODE HERE ###"
   ]
  },
  {
   "cell_type": "code",
   "execution_count": null,
   "metadata": {},
   "outputs": [],
   "source": [
    "# yes – число ответов 3 и 4\n",
    "# N – объем выборки\n",
    "\n",
    "print(stats.binom_test(x = yes, n = N, p = 0.4))"
   ]
  },
  {
   "cell_type": "markdown",
   "metadata": {},
   "source": [
    "### Задача 3\n",
    "\n",
    "Даны массивы значений, в которых содержится количество килограммов, которые были сброшены участниками эксперимента в течение 6 недель следования диете A и диете B."
   ]
  },
  {
   "cell_type": "code",
   "execution_count": null,
   "metadata": {},
   "outputs": [],
   "source": [
    "weight_a = np.array([3, 2.5, 4, 3.5, 4, 4,5, 3.8, 2.7, 1.9, 3.1, 3])\n",
    "weight_b = np.array([-0.5, 2, 2.5, 3, 4, 4.6, 3.2, 0, 1.5, 1.4, 3.2, 2.2, 0])"
   ]
  },
  {
   "cell_type": "markdown",
   "metadata": {},
   "source": [
    "Ниже приведены описательные статистики для выборок:"
   ]
  },
  {
   "cell_type": "code",
   "execution_count": null,
   "metadata": {},
   "outputs": [],
   "source": [
    "print(\"среднее:\", round(weight_a.mean(), 2), \n",
    "      \"стандартное отклонение:\", round(weight_a.std(ddof = 1), 2))\n",
    "\n",
    "print(\"среднее:\", round(weight_b.mean(), 2), \n",
    "      \"стандартное отклонение:\", round(weight_b.std(ddof = 1), 2))"
   ]
  },
  {
   "cell_type": "markdown",
   "metadata": {},
   "source": [
    "Используя функцию `ttest_ind()` из `stats` библиотеки `scipy`, проверьте, можно ли считать на уровне значимости 5% обе диеты одинаково эффективными в контексте снижения веса. Альтернативную гипотезу считайте односторонней, а ее направление выберите, исходя из данных."
   ]
  },
  {
   "cell_type": "code",
   "execution_count": null,
   "metadata": {},
   "outputs": [],
   "source": [
    "### YOUR CODE HERE ###"
   ]
  }
 ],
 "metadata": {
  "kernelspec": {
   "display_name": "Python 3",
   "language": "python",
   "name": "python3"
  },
  "language_info": {
   "codemirror_mode": {
    "name": "ipython",
    "version": 3
   },
   "file_extension": ".py",
   "mimetype": "text/x-python",
   "name": "python",
   "nbconvert_exporter": "python",
   "pygments_lexer": "ipython3",
   "version": "3.7.4"
  }
 },
 "nbformat": 4,
 "nbformat_minor": 2
}
