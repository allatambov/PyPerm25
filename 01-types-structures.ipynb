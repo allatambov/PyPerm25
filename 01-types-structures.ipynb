{
 "cells": [
  {
   "cell_type": "markdown",
   "metadata": {},
   "source": [
    "# Анализ данных в Python\n",
    "\n",
    "*Алла Тамбовцева*\n",
    "\n",
    "## Индексируемые структуры данных: строки, кортежи, списки\n",
    "\n",
    "В Python помимо базовых типов, которые соответствуют отдельным значениям (`int` – целые числа, `float` – вещественные числа, `bool` – булевы значения `True` и `False`), существуют типы, которые хранят последовательности значений. Последовательности значений могут быть индексируемыми и неиндексируемыми. В первом случае предполагается возможность выбора элемента последовательности по его порядковому номеру, \n",
    "плюс, допускается сортировка элементов, во втором случае обе эти операции не определены.\n",
    "\n",
    "К индексируемым (упорядоченным) структурам относятся:\n",
    "\n",
    "* тип `str`: строка (от *string*);\n",
    "* тип `tuple`: кортеж;\n",
    "* тип `list`: список.\n",
    "\n",
    "К неиндексируемым (неупорядоченным) структурам относятся:\n",
    "\n",
    "* тип `set`: множество;\n",
    "* тип `dict`: словарь (от *dictionary*).\n",
    "\n",
    "Рассмотрим индексируемые типы поподробнее."
   ]
  },
  {
   "cell_type": "markdown",
   "metadata": {},
   "source": [
    "### Строки и выбор элементов по индексам\n",
    "\n",
    "Создадим строку с текстом и выведем на экран её тип:"
   ]
  },
  {
   "cell_type": "code",
   "execution_count": 1,
   "metadata": {},
   "outputs": [
    {
     "name": "stdout",
     "output_type": "stream",
     "text": [
      "Python is cool\n",
      "<class 'str'>\n"
     ]
    }
   ],
   "source": [
    "text = \"Python is cool\"\n",
    "print(text)\n",
    "print(type(text))"
   ]
  },
  {
   "cell_type": "markdown",
   "metadata": {},
   "source": [
    "Посмотрим на примере строк, как происходит выбор элемента по индексу. Индекс элемента указывается в квадратных скобках, нумерация в Python начинается с нуля:"
   ]
  },
  {
   "cell_type": "code",
   "execution_count": 2,
   "metadata": {},
   "outputs": [
    {
     "name": "stdout",
     "output_type": "stream",
     "text": [
      "P\n"
     ]
    }
   ],
   "source": [
    "print(text[0])"
   ]
  },
  {
   "cell_type": "markdown",
   "metadata": {},
   "source": [
    "Отрицательные индексы в Python тоже существуют – в таком случае элементы отсчитываются с конца последовательности:"
   ]
  },
  {
   "cell_type": "code",
   "execution_count": 3,
   "metadata": {},
   "outputs": [
    {
     "name": "stdout",
     "output_type": "stream",
     "text": [
      "l\n"
     ]
    }
   ],
   "source": [
    "print(text[-1])"
   ]
  },
  {
   "cell_type": "markdown",
   "metadata": {},
   "source": [
    "Стандартный способ (не все языки поддерживают нумерацию с конца) извлечения последнего элемента на основе общей длины последовательности тоже работает, но считается избыточным:"
   ]
  },
  {
   "cell_type": "code",
   "execution_count": 4,
   "metadata": {},
   "outputs": [
    {
     "name": "stdout",
     "output_type": "stream",
     "text": [
      "l\n"
     ]
    }
   ],
   "source": [
    "print(text[len(text)-1])"
   ]
  },
  {
   "cell_type": "markdown",
   "metadata": {},
   "source": [
    "Выбрать сразу несколько элементов, не стоящих рядом, просто перечислив их индексы через запятую, нельзя, но зато можно выбрать элементы, следующие друг за другом. Для этого пригодятся срезы (*slices*):"
   ]
  },
  {
   "cell_type": "code",
   "execution_count": 5,
   "metadata": {},
   "outputs": [
    {
     "name": "stdout",
     "output_type": "stream",
     "text": [
      "Python\n"
     ]
    }
   ],
   "source": [
    "# правый конец среза всегда исключается\n",
    "# символы 0, 1, 2, 3, 4, 5\n",
    "\n",
    "print(text[0:6])"
   ]
  },
  {
   "cell_type": "markdown",
   "metadata": {},
   "source": [
    "Левую границу среза можно опустить, если подразумевается отсчёт элементов сначала:"
   ]
  },
  {
   "cell_type": "code",
   "execution_count": 6,
   "metadata": {},
   "outputs": [
    {
     "name": "stdout",
     "output_type": "stream",
     "text": [
      "Python\n"
     ]
    }
   ],
   "source": [
    "print(text[:6])"
   ]
  },
  {
   "cell_type": "markdown",
   "metadata": {},
   "source": [
    "Аналогично можно поступить с правой границей:"
   ]
  },
  {
   "cell_type": "code",
   "execution_count": 7,
   "metadata": {},
   "outputs": [
    {
     "name": "stdout",
     "output_type": "stream",
     "text": [
      "is cool\n"
     ]
    }
   ],
   "source": [
    "print(text[7:])"
   ]
  },
  {
   "cell_type": "markdown",
   "metadata": {},
   "source": [
    "В срезе также можно установить шаг, если элементы должны выбираться не друг за другом:"
   ]
  },
  {
   "cell_type": "code",
   "execution_count": 8,
   "metadata": {},
   "outputs": [
    {
     "name": "stdout",
     "output_type": "stream",
     "text": [
      "Pto\n"
     ]
    }
   ],
   "source": [
    "# шаг два – буквы через одну\n",
    "print(text[0:6:2])"
   ]
  },
  {
   "cell_type": "code",
   "execution_count": 9,
   "metadata": {},
   "outputs": [
    {
     "name": "stdout",
     "output_type": "stream",
     "text": [
      " ot\n"
     ]
    }
   ],
   "source": [
    "# отрицательный шаг – движение с конца\n",
    "print(text[6:0:-2])"
   ]
  },
  {
   "cell_type": "code",
   "execution_count": 10,
   "metadata": {},
   "outputs": [
    {
     "name": "stdout",
     "output_type": "stream",
     "text": [
      "looc si nohtyP\n"
     ]
    }
   ],
   "source": [
    "# строка наоборот\n",
    "print(text[-1::-1])"
   ]
  },
  {
   "cell_type": "markdown",
   "metadata": {},
   "source": [
    "### Строки как пример неизменяемого типа\n",
    "\n",
    "Объекты в Python могут быть неизменяемыми (*immutable*) и изменяемыми (*mutable*). Изменяемость в программировании означает возможность изменять объект «как есть», без явного переопределения через присваивание.\n",
    "\n",
    "К неизменяемым типам в Python относятся:\n",
    "\n",
    "* `int`: целые числа;\n",
    "* `float`: вещественные числа;\n",
    "* `bool`: логические значения;\n",
    "* `str`: строки;\n",
    "* `tuple`: кортежи.\n",
    "\n",
    "К изменяемым типам относятся:\n",
    "\n",
    "* `list`: списки;\n",
    "* `set`: множества;\n",
    "* `dict`: словари.\n",
    "\n"
   ]
  },
  {
   "cell_type": "markdown",
   "metadata": {},
   "source": [
    "Допустим, у нас есть строка `text`:"
   ]
  },
  {
   "cell_type": "code",
   "execution_count": 11,
   "metadata": {},
   "outputs": [
    {
     "name": "stdout",
     "output_type": "stream",
     "text": [
      "Python is cool\n"
     ]
    }
   ],
   "source": [
    "print(text)"
   ]
  },
  {
   "cell_type": "markdown",
   "metadata": {},
   "source": [
    "Заменить первый элемент строки через `=` у нас не получится:"
   ]
  },
  {
   "cell_type": "code",
   "execution_count": 12,
   "metadata": {},
   "outputs": [
    {
     "ename": "TypeError",
     "evalue": "'str' object does not support item assignment",
     "output_type": "error",
     "traceback": [
      "\u001b[0;31m---------------------------------------------------------------------------\u001b[0m",
      "\u001b[0;31mTypeError\u001b[0m                                 Traceback (most recent call last)",
      "\u001b[0;32m<ipython-input-12-d55182451c44>\u001b[0m in \u001b[0;36m<module>\u001b[0;34m\u001b[0m\n\u001b[0;32m----> 1\u001b[0;31m \u001b[0mtext\u001b[0m\u001b[0;34m[\u001b[0m\u001b[0;36m0\u001b[0m\u001b[0;34m]\u001b[0m \u001b[0;34m=\u001b[0m \u001b[0;34m\"p\"\u001b[0m\u001b[0;34m\u001b[0m\u001b[0;34m\u001b[0m\u001b[0m\n\u001b[0m",
      "\u001b[0;31mTypeError\u001b[0m: 'str' object does not support item assignment"
     ]
    }
   ],
   "source": [
    "text[0] = \"p\""
   ]
  },
  {
   "cell_type": "markdown",
   "metadata": {},
   "source": [
    "Для изменения строки попробуем воспользоваться готовым методом `.lower()`, который приводит текст к нижнему регистру:"
   ]
  },
  {
   "cell_type": "code",
   "execution_count": 13,
   "metadata": {},
   "outputs": [
    {
     "data": {
      "text/plain": [
       "'python is cool'"
      ]
     },
     "execution_count": 13,
     "metadata": {},
     "output_type": "execute_result"
    }
   ],
   "source": [
    "text.lower()"
   ]
  },
  {
   "cell_type": "markdown",
   "metadata": {},
   "source": [
    "Кажется, получилось! Однако в самой строке `text` при этом ничего не изменилось, метод просто вернул её изменённую копию:"
   ]
  },
  {
   "cell_type": "code",
   "execution_count": 14,
   "metadata": {},
   "outputs": [
    {
     "name": "stdout",
     "output_type": "stream",
     "text": [
      "Python is cool\n"
     ]
    }
   ],
   "source": [
    "print(text)"
   ]
  },
  {
   "cell_type": "markdown",
   "metadata": {},
   "source": [
    "Для изменения строки нужно её перезаписать:"
   ]
  },
  {
   "cell_type": "code",
   "execution_count": 15,
   "metadata": {},
   "outputs": [
    {
     "name": "stdout",
     "output_type": "stream",
     "text": [
      "python is cool\n"
     ]
    }
   ],
   "source": [
    "text = text.lower()\n",
    "print(text)"
   ]
  },
  {
   "cell_type": "markdown",
   "metadata": {},
   "source": [
    "Вернём всё обратно – запишем в `text` результат применения метода `.capitalize()`, который приводит первый символ к верхнему регистру, в нашем случае делает первую букву заглавной:"
   ]
  },
  {
   "cell_type": "code",
   "execution_count": 16,
   "metadata": {},
   "outputs": [
    {
     "name": "stdout",
     "output_type": "stream",
     "text": [
      "Python is cool\n"
     ]
    }
   ],
   "source": [
    "text = text.capitalize()\n",
    "print(text)"
   ]
  },
  {
   "cell_type": "markdown",
   "metadata": {},
   "source": [
    "### Кортежи и методы на кортежах"
   ]
  },
  {
   "cell_type": "markdown",
   "metadata": {},
   "source": [
    "Кортежи встречаются не только в программировании, но и в математике. В математике под кортежем обычно понимают упорядоченный набор элементов, то есть набор, порядок элементов которого фиксирован. В кортеже мы точно знаем, какой элемент является первым, какой – вторым, и так далее.\n",
    "\n",
    "Кортежи Python создаёт сам, если получает на вход перечень элементов через запятую:"
   ]
  },
  {
   "cell_type": "code",
   "execution_count": 17,
   "metadata": {},
   "outputs": [
    {
     "data": {
      "text/plain": [
       "(1, 8, 9)"
      ]
     },
     "execution_count": 17,
     "metadata": {},
     "output_type": "execute_result"
    }
   ],
   "source": [
    "1, 8, 9"
   ]
  },
  {
   "cell_type": "markdown",
   "metadata": {},
   "source": [
    "При этом элементы совсем не обязательно должны быть одного типа:"
   ]
  },
  {
   "cell_type": "code",
   "execution_count": 18,
   "metadata": {},
   "outputs": [
    {
     "data": {
      "text/plain": [
       "('abc', 8, True)"
      ]
     },
     "execution_count": 18,
     "metadata": {},
     "output_type": "execute_result"
    }
   ],
   "source": [
    "\"abc\", 8, True"
   ]
  },
  {
   "cell_type": "markdown",
   "metadata": {},
   "source": [
    "Можем создать кортеж явно, используя круглые скобки:"
   ]
  },
  {
   "cell_type": "code",
   "execution_count": 19,
   "metadata": {},
   "outputs": [],
   "source": [
    "triple = (10, 9, 5)"
   ]
  },
  {
   "cell_type": "code",
   "execution_count": 20,
   "metadata": {},
   "outputs": [
    {
     "name": "stdout",
     "output_type": "stream",
     "text": [
      "(10, 9, 5) <class 'tuple'>\n"
     ]
    }
   ],
   "source": [
    "print(triple, type(triple))"
   ]
  },
  {
   "cell_type": "markdown",
   "metadata": {},
   "source": [
    "К элементам кортежа также можно обращаться по индексу:"
   ]
  },
  {
   "cell_type": "code",
   "execution_count": 21,
   "metadata": {},
   "outputs": [
    {
     "name": "stdout",
     "output_type": "stream",
     "text": [
      "5\n"
     ]
    }
   ],
   "source": [
    "print(triple[2])"
   ]
  },
  {
   "cell_type": "markdown",
   "metadata": {},
   "source": [
    "А вот изменять его элементы, как и у строк, нельзя:"
   ]
  },
  {
   "cell_type": "code",
   "execution_count": 22,
   "metadata": {},
   "outputs": [
    {
     "ename": "TypeError",
     "evalue": "'tuple' object does not support item assignment",
     "output_type": "error",
     "traceback": [
      "\u001b[0;31m---------------------------------------------------------------------------\u001b[0m",
      "\u001b[0;31mTypeError\u001b[0m                                 Traceback (most recent call last)",
      "\u001b[0;32m<ipython-input-22-c747e088c472>\u001b[0m in \u001b[0;36m<module>\u001b[0;34m\u001b[0m\n\u001b[0;32m----> 1\u001b[0;31m \u001b[0mtriple\u001b[0m\u001b[0;34m[\u001b[0m\u001b[0;36m2\u001b[0m\u001b[0;34m]\u001b[0m \u001b[0;34m=\u001b[0m \u001b[0;36m8\u001b[0m\u001b[0;34m\u001b[0m\u001b[0;34m\u001b[0m\u001b[0m\n\u001b[0m",
      "\u001b[0;31mTypeError\u001b[0m: 'tuple' object does not support item assignment"
     ]
    }
   ],
   "source": [
    "triple[2] = 8"
   ]
  },
  {
   "cell_type": "markdown",
   "metadata": {},
   "source": [
    "Иногда это свойство бывает полезным (некоторая «защита» от изменений), иногда – не очень, но для нас пока важно познакомиться с разными объектами в Python, чтобы потом не удивляться. Ведь многие более продвинутые функции могут возвращать результат или, наоборот, принимать на вход только кортежи или только списки.\n",
    "\n",
    "Если посмотреть на методы, применяемые к кортежам (например, набрать `triple.` и нажать *Tab*), то можно заметить, что их всего два:"
   ]
  },
  {
   "cell_type": "code",
   "execution_count": 23,
   "metadata": {},
   "outputs": [
    {
     "name": "stdout",
     "output_type": "stream",
     "text": [
      "0\n"
     ]
    }
   ],
   "source": [
    "# индекс элемента\n",
    "print(triple.index(10))"
   ]
  },
  {
   "cell_type": "code",
   "execution_count": 24,
   "metadata": {},
   "outputs": [
    {
     "name": "stdout",
     "output_type": "stream",
     "text": [
      "1\n"
     ]
    }
   ],
   "source": [
    "# число вхождений элемента\n",
    "print(triple.count(10))"
   ]
  },
  {
   "cell_type": "markdown",
   "metadata": {},
   "source": [
    "> **NB.** Что у кортежей, что у строк, что у списков, метод `.index()` всегда возвращает индекс только первого совпадения, даже если в последовательности есть повторяющиеся значения:\n",
    "        \n",
    "        four = (4, 4, 6, 6, 6)\n",
    "        print(four.index(6))\n",
    "        2"
   ]
  },
  {
   "cell_type": "code",
   "execution_count": 25,
   "metadata": {},
   "outputs": [
    {
     "name": "stdout",
     "output_type": "stream",
     "text": [
      "2\n"
     ]
    }
   ],
   "source": [
    "four = (4, 4, 6, 6, 6)\n",
    "print(four.index(6))"
   ]
  },
  {
   "cell_type": "markdown",
   "metadata": {},
   "source": [
    "Во многом это связано с тем, что кортеж нельзя изменить. Но вот «склеивать» кортежи, создавая при этом новый, легко, оператор `+` одинаково работает с последовательностями разных типов:"
   ]
  },
  {
   "cell_type": "code",
   "execution_count": 26,
   "metadata": {},
   "outputs": [
    {
     "data": {
      "text/plain": [
       "(1, 2, 10, 9, 5, 4, 4, 6, 6, 6)"
      ]
     },
     "execution_count": 26,
     "metadata": {},
     "output_type": "execute_result"
    }
   ],
   "source": [
    "(1, 2) + triple + four"
   ]
  },
  {
   "cell_type": "markdown",
   "metadata": {},
   "source": [
    "### Списки как пример изменяемого типа\n",
    "\n",
    "Создадим список `values` из целых значений. Элементы списка перечисляются в квадратных скобках через запятую:"
   ]
  },
  {
   "cell_type": "code",
   "execution_count": 27,
   "metadata": {},
   "outputs": [],
   "source": [
    "values = [4, 7, 8, 10, 5, 4]"
   ]
  },
  {
   "cell_type": "markdown",
   "metadata": {},
   "source": [
    "Список может содержать элементы любого типа, необязательно числового. Например, мы можем создать список имён `names`, полностью состоящий из строк:"
   ]
  },
  {
   "cell_type": "code",
   "execution_count": 28,
   "metadata": {},
   "outputs": [
    {
     "name": "stdout",
     "output_type": "stream",
     "text": [
      "['Ann', 'Nick', 'Ben', 'George', 'James']\n"
     ]
    }
   ],
   "source": [
    "names = [\"Ann\", \"Nick\", \"Ben\", \"George\", \"James\"]\n",
    "print(names)"
   ]
  },
  {
   "cell_type": "markdown",
   "metadata": {},
   "source": [
    "А можем создать список, состоящий из элементов разных типов. Представим, что не очень сознательный исследователь закодировал пропущенные значения в списке текстом, написав «нет ответа»:"
   ]
  },
  {
   "cell_type": "code",
   "execution_count": 29,
   "metadata": {},
   "outputs": [
    {
     "name": "stdout",
     "output_type": "stream",
     "text": [
      "[23, 25, 'no answer', 32]\n"
     ]
    }
   ],
   "source": [
    "mixed = [23, 25, \"no answer\", 32]\n",
    "print(mixed)"
   ]
  },
  {
   "cell_type": "markdown",
   "metadata": {},
   "source": [
    "Элементы разных типов спокойно уживаются в списке: Python не меняет тип элементов. Все элементы, которые являются строками, останутся строками, а числа – числами. Список может иметь более сложную структуру, например, представлять собой список списков:"
   ]
  },
  {
   "cell_type": "code",
   "execution_count": 30,
   "metadata": {},
   "outputs": [
    {
     "name": "stdout",
     "output_type": "stream",
     "text": [
      "[[1, 2, 3], [4, 5]]\n"
     ]
    }
   ],
   "source": [
    "L = [[1, 2, 3], [4, 5]]\n",
    "print(L)"
   ]
  },
  {
   "cell_type": "markdown",
   "metadata": {},
   "source": [
    "Вернёмся к списку `values`. Список – изменяемый тип в Python. Это означает, что список можно изменять, не перезаписывая его, то есть не создавая новую переменную с тем же названием. Заменим последний элемент списка `values` на число 30:"
   ]
  },
  {
   "cell_type": "code",
   "execution_count": 31,
   "metadata": {},
   "outputs": [
    {
     "name": "stdout",
     "output_type": "stream",
     "text": [
      "[4, 7, 8, 10, 5, 30]\n"
     ]
    }
   ],
   "source": [
    "values[-1] = 30\n",
    "print(values)"
   ]
  },
  {
   "cell_type": "markdown",
   "metadata": {},
   "source": [
    "А ещё можно дописывать элементы в конец списка. Для этого существует два метода: `.append()` и `.extend()`. Метод `.append()` используется для присоединения одного элемента, `.extend()` – для добавления целого списка."
   ]
  },
  {
   "cell_type": "code",
   "execution_count": 32,
   "metadata": {},
   "outputs": [
    {
     "name": "stdout",
     "output_type": "stream",
     "text": [
      "[4, 7, 8, 10, 5, 30, 100]\n"
     ]
    }
   ],
   "source": [
    "values.append(100)\n",
    "print(values)"
   ]
  },
  {
   "cell_type": "code",
   "execution_count": 33,
   "metadata": {},
   "outputs": [
    {
     "name": "stdout",
     "output_type": "stream",
     "text": [
      "[4, 7, 8, 10, 5, 30, 100, 90, 120]\n"
     ]
    }
   ],
   "source": [
    "values.extend([90, 120])\n",
    "print(values)"
   ]
  },
  {
   "cell_type": "markdown",
   "metadata": {},
   "source": [
    "Важный момент: методы `.append()` и `.extend()`, да и почти все методы, которые затрагивают исходный список, молча вносят изменения в сам список, а не возвращают его обновлённую копию. Возвращают они пустое значение `None`, поэтому использовать одновременно, например, `.append()` и `=` для изменения списка – ошибочное решение:"
   ]
  },
  {
   "cell_type": "code",
   "execution_count": 34,
   "metadata": {},
   "outputs": [
    {
     "name": "stdout",
     "output_type": "stream",
     "text": [
      "None\n"
     ]
    }
   ],
   "source": [
    "new = values.append(90) \n",
    "print(new) # но нет"
   ]
  },
  {
   "cell_type": "markdown",
   "metadata": {},
   "source": [
    "Списки не так просты, как кажется. И это снова связано с тем, что список – изменяемый тип. Давайте попробуем сделать следующее: скопировать один список в другой путём присваивания и применить к копии какой-нибудь метод."
   ]
  },
  {
   "cell_type": "code",
   "execution_count": 35,
   "metadata": {},
   "outputs": [
    {
     "name": "stdout",
     "output_type": "stream",
     "text": [
      "[4, 7, 8, 10, 5, 30, 100, 90, 120, 90, 100] [4, 7, 8, 10, 5, 30, 100, 90, 120, 90, 100]\n"
     ]
    }
   ],
   "source": [
    "values2 = values\n",
    "values2.append(100)\n",
    "print(values, values2)"
   ]
  },
  {
   "cell_type": "markdown",
   "metadata": {},
   "source": [
    "Несмотря на то, что список `values` мы не трогали, он изменился точно так же, как и список `values2`! Что произошло? На самом деле, когда мы записали `values2 = values`, мы скопировали не сам список, а ссылку на него. Другими словами, проводя аналогию с папкой и ярлыком, вместо того, чтобы создать новую папку `values2` с элементами, такими же, как в `values`, мы создали ярлык `values2`, который просто ссылается на папку `values`."
   ]
  },
  {
   "cell_type": "markdown",
   "metadata": {},
   "source": [
    "<img src=\"https://raw.githubusercontent.com/allatambov/PyPerm25/main/one.jpeg\" width=\"70%\">"
   ]
  },
  {
   "cell_type": "markdown",
   "metadata": {},
   "source": [
    "Так как же тогда копировать списки? Можно воспользоваться методом `.copy()`."
   ]
  },
  {
   "cell_type": "code",
   "execution_count": 36,
   "metadata": {},
   "outputs": [
    {
     "name": "stdout",
     "output_type": "stream",
     "text": [
      "[4, 7, 8, 10, 5, 30, 100, 90, 120, 90, 100]\n",
      "[4, 5, 7, 8, 10, 30, 90, 90, 100, 100, 120]\n"
     ]
    }
   ],
   "source": [
    "values3 = values.copy() \n",
    "values3.sort()\n",
    "\n",
    "print(values) # исходный\n",
    "print(values3) # уже отсортирован"
   ]
  },
  {
   "cell_type": "markdown",
   "metadata": {},
   "source": [
    "<img src=\"https://raw.githubusercontent.com/allatambov/PyPerm25/main/two.jpeg\" width=\"70%\">"
   ]
  },
  {
   "cell_type": "markdown",
   "metadata": {},
   "source": [
    "**NB.** Метод `.copy()` всё равно создаёт не полную (глубокую) копию объекта. Если в списке внутри хранятся объекты изменяемых типов, этот метод уже не позволит создать более корректную копию списка. Сравним результаты выше с примером работы со списком списков:"
   ]
  },
  {
   "cell_type": "code",
   "execution_count": 37,
   "metadata": {},
   "outputs": [
    {
     "name": "stdout",
     "output_type": "stream",
     "text": [
      "До:\n",
      "[[1, 0, 1], [0, 0, 0]]\n",
      "[[1, 0, 1], [0, 0, 0]]\n",
      "После:\n",
      "[[1, 0, 1], [1, 0, 0]]\n",
      "[[1, 0, 1], [1, 0, 0]]\n"
     ]
    }
   ],
   "source": [
    "test = [[1, 0, 1], \n",
    "        [0, 0, 0]]\n",
    "\n",
    "test2 = test.copy()\n",
    "print(\"До:\", test, test2, sep = \"\\n\")\n",
    "\n",
    "# изменяем первый элемент второго списка внутри\n",
    "test[1][0] = 1\n",
    "\n",
    "# нет разницы – ссылки на списки внутри\n",
    "print(\"После:\", test, test2, sep = \"\\n\")"
   ]
  },
  {
   "cell_type": "markdown",
   "metadata": {},
   "source": [
    "<img src=\"https://raw.githubusercontent.com/allatambov/PyPerm25/main/four.png\" width=\"50%\">"
   ]
  },
  {
   "cell_type": "markdown",
   "metadata": {},
   "source": [
    "Для создания глубокой копии можно воспользоваться функцией `deepcopy()` из модуля `copy`:"
   ]
  },
  {
   "cell_type": "code",
   "execution_count": 38,
   "metadata": {},
   "outputs": [
    {
     "name": "stdout",
     "output_type": "stream",
     "text": [
      "До:\n",
      "[[1, 0, 1], [0, 0, 0]]\n",
      "[[1, 0, 1], [0, 0, 0]]\n",
      "После:\n",
      "[[1, 0, 1], [1, 0, 0]]\n",
      "[[1, 0, 1], [0, 0, 0]]\n"
     ]
    }
   ],
   "source": [
    "from copy import deepcopy\n",
    "\n",
    "test = [[1, 0, 1], \n",
    "        [0, 0, 0]]\n",
    "\n",
    "test2 = deepcopy(test)\n",
    "print(\"До:\", test, test2, sep = \"\\n\")\n",
    "\n",
    "test[1][0] = 1\n",
    "print(\"После:\", test, test2, sep = \"\\n\") # разница есть"
   ]
  },
  {
   "cell_type": "markdown",
   "metadata": {},
   "source": [
    "<img src=\"https://raw.githubusercontent.com/allatambov/PyPerm25/main/three.png\" width=\"70%\">"
   ]
  },
  {
   "cell_type": "markdown",
   "metadata": {},
   "source": [
    "Более подробную информацию о модуле `copy` (и даже исходный код) можно найти в [документации](https://docs.python.org/3/library/copy.html). Там же можно узнать больше деталей о глубине копирования и особенностях копирования для разных типов (сколько уровней охватывается во вложенных структурах и прочее)."
   ]
  },
  {
   "cell_type": "markdown",
   "metadata": {},
   "source": [
    "С неизменяемыми типами таких проблем не возникает, присваивание через `=` создаёт полноценную копию."
   ]
  },
  {
   "cell_type": "code",
   "execution_count": 39,
   "metadata": {},
   "outputs": [
    {
     "name": "stdout",
     "output_type": "stream",
     "text": [
      "hey HEY\n"
     ]
    }
   ],
   "source": [
    "whisper = \"hey\"\n",
    "shout = whisper\n",
    "shout = shout.upper()\n",
    "print(whisper, shout)"
   ]
  }
 ],
 "metadata": {
  "kernelspec": {
   "display_name": "Python 3",
   "language": "python",
   "name": "python3"
  },
  "language_info": {
   "codemirror_mode": {
    "name": "ipython",
    "version": 3
   },
   "file_extension": ".py",
   "mimetype": "text/x-python",
   "name": "python",
   "nbconvert_exporter": "python",
   "pygments_lexer": "ipython3",
   "version": "3.7.4"
  }
 },
 "nbformat": 4,
 "nbformat_minor": 2
}
